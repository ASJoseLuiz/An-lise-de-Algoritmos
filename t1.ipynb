{
 "cells": [
  {
   "cell_type": "code",
   "execution_count": 1,
   "metadata": {},
   "outputs": [],
   "source": [
    "import pandas as pd"
   ]
  },
  {
   "cell_type": "code",
   "execution_count": 20,
   "metadata": {},
   "outputs": [],
   "source": [
    "df100 = pd.read_csv('t_exe100.txt', header=None)\n",
    "df100 = df100.dropna(axis=1, how='all')\n",
    "df100.columns = ['B.L', 'B.L.2', 'B.L.R', 'B.B.I', 'B.B.R']\n",
    "\n",
    "df1000 = pd.read_csv('t_exe1000.txt', header=None)\n",
    "df1000 = df1000.dropna(axis=1, how='all')\n",
    "df1000.columns = ['B.L', 'B.L.2', 'B.L.R', 'B.B.I', 'B.B.R']\n",
    "\n",
    "df10000 = pd.read_csv('t_exe10000.txt', header=None)\n",
    "df10000 = df10000.dropna(axis=1, how='all')\n",
    "df10000.columns = ['B.L', 'B.L.2', 'B.L.R', 'B.B.I', 'B.B.R']\n",
    "\n",
    "df14000 = pd.read_csv('t_exeCM345714000.txt', header=None)\n",
    "df14000 = df14000.dropna(axis=1, how='all')\n",
    "df14000.columns = ['B.L', 'B.L.2', 'B.L.R', 'B.B.I', 'B.B.R']\n",
    "\n",
    "algoBuscas100 = [df100['B.L'].mean(), df100['B.L.2'].mean(), df100['B.L.R'].mean(), df100['B.B.I'].mean(), df100['B.B.R'].mean()]\n",
    "algoBuscas1000 = [df1000['B.L'].mean(), df1000['B.L.2'].mean(), df1000['B.L.R'].mean(), df1000['B.B.I'].mean(), df1000['B.B.R'].mean()]\n",
    "algoBuscas10000 = [df10000['B.L'].mean(), df10000['B.L.2'].mean(), df10000['B.L.R'].mean(), df10000['B.B.I'].mean(), df10000['B.B.R'].mean()]\n",
    "algoBuscas14000 = [df14000['B.L'].mean(), df14000['B.L.2'].mean(), df14000['B.L.R'].mean(), df14000['B.B.I'].mean(), df14000['B.B.R'].mean()]"
   ]
  },
  {
   "cell_type": "code",
   "execution_count": 18,
   "metadata": {},
   "outputs": [
    {
     "data": {
      "text/html": [
       "<div>\n",
       "<style scoped>\n",
       "    .dataframe tbody tr th:only-of-type {\n",
       "        vertical-align: middle;\n",
       "    }\n",
       "\n",
       "    .dataframe tbody tr th {\n",
       "        vertical-align: top;\n",
       "    }\n",
       "\n",
       "    .dataframe thead th {\n",
       "        text-align: right;\n",
       "    }\n",
       "</style>\n",
       "<table border=\"1\" class=\"dataframe\">\n",
       "  <thead>\n",
       "    <tr style=\"text-align: right;\">\n",
       "      <th></th>\n",
       "      <th>B.L</th>\n",
       "      <th>B.L.2</th>\n",
       "      <th>B.L.R</th>\n",
       "      <th>B.B.I</th>\n",
       "      <th>B.B.R</th>\n",
       "    </tr>\n",
       "  </thead>\n",
       "  <tbody>\n",
       "    <tr>\n",
       "      <th>0</th>\n",
       "      <td>50200</td>\n",
       "      <td>87000</td>\n",
       "      <td>533500</td>\n",
       "      <td>5000</td>\n",
       "      <td>4500</td>\n",
       "    </tr>\n",
       "    <tr>\n",
       "      <th>1</th>\n",
       "      <td>49900</td>\n",
       "      <td>82000</td>\n",
       "      <td>30000</td>\n",
       "      <td>1600</td>\n",
       "      <td>1700</td>\n",
       "    </tr>\n",
       "    <tr>\n",
       "      <th>2</th>\n",
       "      <td>63900</td>\n",
       "      <td>105500</td>\n",
       "      <td>25400</td>\n",
       "      <td>1700</td>\n",
       "      <td>2200</td>\n",
       "    </tr>\n",
       "    <tr>\n",
       "      <th>3</th>\n",
       "      <td>63700</td>\n",
       "      <td>107600</td>\n",
       "      <td>33200</td>\n",
       "      <td>1700</td>\n",
       "      <td>2100</td>\n",
       "    </tr>\n",
       "    <tr>\n",
       "      <th>4</th>\n",
       "      <td>60500</td>\n",
       "      <td>109900</td>\n",
       "      <td>21500</td>\n",
       "      <td>1400</td>\n",
       "      <td>2200</td>\n",
       "    </tr>\n",
       "    <tr>\n",
       "      <th>...</th>\n",
       "      <td>...</td>\n",
       "      <td>...</td>\n",
       "      <td>...</td>\n",
       "      <td>...</td>\n",
       "      <td>...</td>\n",
       "    </tr>\n",
       "    <tr>\n",
       "      <th>95</th>\n",
       "      <td>14500</td>\n",
       "      <td>22200</td>\n",
       "      <td>8400</td>\n",
       "      <td>1300</td>\n",
       "      <td>500</td>\n",
       "    </tr>\n",
       "    <tr>\n",
       "      <th>96</th>\n",
       "      <td>15600</td>\n",
       "      <td>20800</td>\n",
       "      <td>8100</td>\n",
       "      <td>1300</td>\n",
       "      <td>500</td>\n",
       "    </tr>\n",
       "    <tr>\n",
       "      <th>97</th>\n",
       "      <td>13200</td>\n",
       "      <td>19100</td>\n",
       "      <td>8900</td>\n",
       "      <td>1300</td>\n",
       "      <td>500</td>\n",
       "    </tr>\n",
       "    <tr>\n",
       "      <th>98</th>\n",
       "      <td>15600</td>\n",
       "      <td>20000</td>\n",
       "      <td>8700</td>\n",
       "      <td>1300</td>\n",
       "      <td>500</td>\n",
       "    </tr>\n",
       "    <tr>\n",
       "      <th>99</th>\n",
       "      <td>13900</td>\n",
       "      <td>20100</td>\n",
       "      <td>9000</td>\n",
       "      <td>1300</td>\n",
       "      <td>500</td>\n",
       "    </tr>\n",
       "  </tbody>\n",
       "</table>\n",
       "<p>100 rows × 5 columns</p>\n",
       "</div>"
      ],
      "text/plain": [
       "      B.L   B.L.2   B.L.R  B.B.I  B.B.R\n",
       "0   50200   87000  533500   5000   4500\n",
       "1   49900   82000   30000   1600   1700\n",
       "2   63900  105500   25400   1700   2200\n",
       "3   63700  107600   33200   1700   2100\n",
       "4   60500  109900   21500   1400   2200\n",
       "..    ...     ...     ...    ...    ...\n",
       "95  14500   22200    8400   1300    500\n",
       "96  15600   20800    8100   1300    500\n",
       "97  13200   19100    8900   1300    500\n",
       "98  15600   20000    8700   1300    500\n",
       "99  13900   20100    9000   1300    500\n",
       "\n",
       "[100 rows x 5 columns]"
      ]
     },
     "execution_count": 18,
     "metadata": {},
     "output_type": "execute_result"
    }
   ],
   "source": [
    "df14000"
   ]
  },
  {
   "cell_type": "code",
   "execution_count": 4,
   "metadata": {},
   "outputs": [
    {
     "name": "stdout",
     "output_type": "stream",
     "text": [
      "707.0\n",
      "347.0\n",
      "397.0\n",
      "825.0\n",
      "1165.0\n"
     ]
    }
   ],
   "source": [
    "for i in range(len(algoBuscas100)):\n",
    "    print(algoBuscas100[i])"
   ]
  },
  {
   "cell_type": "code",
   "execution_count": 7,
   "metadata": {},
   "outputs": [
    {
     "name": "stdout",
     "output_type": "stream",
     "text": [
      "512.0\n",
      "277.0\n",
      "312.0\n",
      "836.0\n",
      "1116.0\n"
     ]
    }
   ],
   "source": [
    "for i in range(len(algoBuscas1000)):\n",
    "    print(algoBuscas1000[i])"
   ]
  },
  {
   "cell_type": "code",
   "execution_count": 10,
   "metadata": {},
   "outputs": [
    {
     "name": "stdout",
     "output_type": "stream",
     "text": [
      "218.0\n",
      "235.0\n",
      "252.0\n",
      "804.0\n",
      "1536.0\n"
     ]
    }
   ],
   "source": [
    "for i in range(len(algoBuscas10000)):\n",
    "    print(algoBuscas10000[i])"
   ]
  },
  {
   "cell_type": "code",
   "execution_count": 21,
   "metadata": {},
   "outputs": [
    {
     "name": "stdout",
     "output_type": "stream",
     "text": [
      "27440.0\n",
      "42195.0\n",
      "18572.0\n",
      "1439.0\n",
      "1801.0\n"
     ]
    }
   ],
   "source": [
    "\n",
    "for i in range(len(algoBuscas14000)):\n",
    "    print(algoBuscas14000[i])"
   ]
  }
 ],
 "metadata": {
  "kernelspec": {
   "display_name": "base",
   "language": "python",
   "name": "python3"
  },
  "language_info": {
   "codemirror_mode": {
    "name": "ipython",
    "version": 3
   },
   "file_extension": ".py",
   "mimetype": "text/x-python",
   "name": "python",
   "nbconvert_exporter": "python",
   "pygments_lexer": "ipython3",
   "version": "3.9.13"
  }
 },
 "nbformat": 4,
 "nbformat_minor": 2
}
